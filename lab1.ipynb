{
 "cells": [
  {
   "cell_type": "markdown",
   "metadata": {
    "id": "M-DGa20PaHnu"
   },
   "source": [
    "# Задача 1\n",
    "Написать функцию на вход которой подается строка, состоящая из латинских букв.\n",
    "Функция должна вернуть количество гласных букв (a, e, i, o, u) в этой строке. Написать тесты для кода"
   ]
  },
  {
   "cell_type": "code",
   "execution_count": 1,
   "metadata": {
    "id": "XvX8X_JJ6PCb"
   },
   "outputs": [
    {
     "name": "stdout",
     "output_type": "stream",
     "text": [
      "Given string: example text\n",
      "Vovels = 4 ;  Calculated = 4\n",
      "Test succsessful!\n",
      "\n",
      "Given string: abcdefghijklmnopqrstuvwxyz\n",
      "Vovels = 5 ;  Calculated = 5\n",
      "Test succsessful!\n",
      "\n",
      "Given string: sdk clm\n",
      "Vovels = 0 ;  Calculated = 0\n",
      "Test succsessful!\n",
      "\n"
     ]
    }
   ],
   "source": [
    "def read(string):\n",
    "    sum = 0\n",
    "    tuple =('a', 'e', 'i', 'o', 'u')\n",
    "    for l in string:\n",
    "        for elem in tuple:\n",
    "            if l == elem:\n",
    "                sum += 1 \n",
    "    return sum\n",
    "\n",
    "def Test(Input, ref):\n",
    "    ans = read(Input)\n",
    "    print('Given string:', Input)\n",
    "    print('Vovels =', ref, '; ','Calculated =', ans)\n",
    "    if ans == ref:\n",
    "        print('Test succsessful!')\n",
    "    else:\n",
    "        print('Test failed!')\n",
    "    print()\n",
    "\n",
    "Test('example text', 4)\n",
    "Test('abcdefghijklmnopqrstuvwxyz', 5)\n",
    "Test('sdk clm', 0)"
   ]
  },
  {
   "cell_type": "markdown",
   "metadata": {
    "id": "t2ClV_Y0bbr6"
   },
   "source": [
    "# Задача 2\n",
    "Написать функцию на вход, которой подается строка. Функция должна вернуть true, если\n",
    "каждый символ в строке встречается только 1 раз, иначе должна вернуть false. Написать тесты для кода"
   ]
  },
  {
   "cell_type": "code",
   "execution_count": null,
   "metadata": {
    "id": "FppbECao6VIz"
   },
   "outputs": [],
   "source": [
    "def read(string):\n",
    "    duplicate = False\n",
    "    for i in range(len(string)):\n",
    "        for j in range(i+1, len(string)):\n",
    "            if string[i] == string[j]:\n",
    "                duplicate = True\n",
    "                break\n",
    "        if duplicate == True:\n",
    "            break\n",
    "    return duplicate\n",
    "\n",
    "def Test(Input, ref):\n",
    "    ans = read(Input)\n",
    "    print('Given string:', Input)\n",
    "    print('Duplicates =', ref, '; ','Calculated =', ans)\n",
    "    assert ans == ref, 'Test failed\\n'\n",
    "\n",
    "\n",
    "Test('example text', True)\n",
    "Test('abcdefghijklmnopqrstuvwxyz', False)\n",
    "Test('sdk clm', False)\n",
    "Test('', False)"
   ]
  },
  {
   "cell_type": "markdown",
   "metadata": {
    "id": "udRiIK1cdt6E"
   },
   "source": [
    "# Задача 3\n",
    "Написать функцию, которая принимает положительное число и возвращает количество\n",
    "бит равных 1 в этом числе. Написать тесты для кода"
   ]
  },
  {
   "cell_type": "code",
   "execution_count": 1,
   "metadata": {
    "id": "6tkfDJRz6dp_"
   },
   "outputs": [
    {
     "name": "stdout",
     "output_type": "stream",
     "text": [
      "Given number: 4   Byte form:  0b100\n",
      "Positive bytes = 1 ;  Calculated positive bytes = 1\n",
      "---------\n",
      "Given number: 64   Byte form:  0b1000000\n",
      "Positive bytes = 1 ;  Calculated positive bytes = 1\n",
      "---------\n",
      "Given number: 3   Byte form:  0b11\n",
      "Positive bytes = 2 ;  Calculated positive bytes = 2\n",
      "---------\n",
      "Given number: 7   Byte form:  0b111\n",
      "Positive bytes = 3 ;  Calculated positive bytes = 3\n",
      "---------\n",
      "Given number: 0   Byte form:  0b0\n",
      "Positive bytes = 0 ;  Calculated positive bytes = 0\n",
      "---------\n"
     ]
    }
   ],
   "source": [
    "def ByteCount(Num):\n",
    "    assert Num >= 0, 'Input must be positive!'\n",
    "    sum = 0\n",
    "    for byte in bin(Num):\n",
    "        if byte == '1':\n",
    "            sum += 1\n",
    "\n",
    "    return sum\n",
    "\n",
    "def Test(Input, ref):\n",
    "    ans = ByteCount(Input)\n",
    "    print('Given number:', Input, ' ', 'Byte form: ', bin(Input))\n",
    "    print('Positive bytes =', ref, '; ','Calculated positive bytes =', ans)\n",
    "    assert ans == ref, 'Test failed'\n",
    "    print('---------')\n",
    "\n",
    "Test(4, 1)\n",
    "Test(64, 1)\n",
    "Test(3, 2)\n",
    "Test(7, 3)\n",
    "Test(0, 0)"
   ]
  },
  {
   "cell_type": "markdown",
   "metadata": {
    "id": "26dDUz-Ae17N"
   },
   "source": [
    "# Задача 4\n",
    "Написать функцию, которая принимает положительное число. Функция должна вернуть то,\n",
    "сколько раз необходимо перемножать цифры числа или результат перемножения, чтобы\n",
    "получилось число состоящее из одной цифры.\n",
    "Например, для входного числа:\n",
    "· 39 функция должна вернуть 3, так как 3*9=27 => 2*7=14 => 1*4=4\n",
    "· 4 функция должна вернуть 0, так как число уже состоит из одной цифры\n",
    "· 999 функция должна вернуть 4, так как 9*9*9=729 => 7*2*9=126 => 1*2*6=12 =>\n",
    "1*2=2. Написать тесты для кода"
   ]
  },
  {
   "cell_type": "code",
   "execution_count": null,
   "metadata": {
    "id": "BH1A_Mgi6i4G"
   },
   "outputs": [],
   "source": [
    "def magic(n):\n",
    "    assert n >= 0, 'Input must be positive!'\n",
    "    \n",
    "    counter = 0\n",
    "    while n > 9:\n",
    "        n = str(n)\n",
    "        prod = 1\n",
    "        \n",
    "        for elem in n:\n",
    "            prod *= int(elem)\n",
    "        \n",
    "        n = prod\n",
    "        counter += 1\n",
    "    \n",
    "    return counter\n",
    "\n",
    "def Test(Input, ref):\n",
    "    \n",
    "    ans = magic(Input)\n",
    "    print('Given number:', Input)\n",
    "    print('Times to multiply =', ref, '; ','Calculated times to multiply =', ans)\n",
    "    assert ans == ref, 'Test failed\\n'\n",
    "\n",
    "\n",
    "Test(39, 3)\n",
    "Test(4, 0)\n",
    "Test(999, 4)\n",
    "Test(9397, 2)"
   ]
  },
  {
   "cell_type": "markdown",
   "metadata": {
    "id": "0nS-kIa8g8vd"
   },
   "source": [
    "# Задача 5\n",
    "Написать функцию, которая принимает два целочисленных вектора одинаковой длины и\n",
    "возвращает среднеквадратическое отклонение двух векторов. Написать тесты для кода"
   ]
  },
  {
   "cell_type": "code",
   "execution_count": 61,
   "metadata": {
    "id": "8iphx4LM6xbx"
   },
   "outputs": [
    {
     "name": "stdout",
     "output_type": "stream",
     "text": [
      "[2.0, 0.5, 8.0]\n"
     ]
    }
   ],
   "source": [
    "\n",
    "def mse(pred, true):\n",
    "    \n",
    "    assert len(pred) == len(true), 'Vectors must be same size!'\n",
    "    \n",
    "    N = len(pred)\n",
    "    mean = []\n",
    "    deviation = []\n",
    "    \n",
    "    for i in range(N):\n",
    "        \n",
    "        mean.append(0)\n",
    "        deviation.append(0)\n",
    "        \n",
    "        mean[i] = (pred[i] + true[i]) / 2\n",
    "        deviation[i] = (pred[i] - mean[i])**2 + (true[i] - mean[i])**2\n",
    "    \n",
    "    return(deviation)\n",
    "    \n",
    "print(mse([1, 2, 5], [3, 3, 1]))"
   ]
  },
  {
   "cell_type": "markdown",
   "metadata": {
    "id": "vpIPKL439zkw"
   },
   "source": [
    "# Задача 6\n",
    "Написать функцию, принимающая целое положительное число. Функция должна вернуть\n",
    "строку вида “(n1**p1)(n2**p2)…(nk**pk)” представляющая разложение числа на простые\n",
    "множители (если pi == 1, то выводить только ni).\n",
    "Например, для числа 86240 функция должна вернуть “(2**5)(5)(7**2)(11)”. Написать тесты для кода"
   ]
  },
  {
   "cell_type": "code",
   "execution_count": 9,
   "metadata": {
    "id": "pFebmcZk94Jw"
   },
   "outputs": [
    {
     "name": "stdout",
     "output_type": "stream",
     "text": [
      "Given number: 86240\n",
      "Factorization = (2**5)(5)(7**2)(11) ;  Calculated factorization = (2**5)(5)(7**2)(11)\n",
      "---------\n",
      "Given number: 0\n",
      "Factorization = 0 ;  Calculated factorization = 0\n",
      "---------\n",
      "Given number: 42069\n",
      "Factorization = (3)(37)(379) ;  Calculated factorization = (3)(37)(379)\n",
      "---------\n",
      "Given number: 743\n",
      "Factorization = 743 ;  Calculated factorization = 743\n",
      "---------\n",
      "Given number: 758\n",
      "Factorization = (2)(379) ;  Calculated factorization = (2)(379)\n",
      "---------\n"
     ]
    }
   ],
   "source": [
    "def Factorize(Num):\n",
    "    assert Num >= 0, 'Input must be positive!'\n",
    "    output = ''\n",
    "    \n",
    "    for divisor in range(2, Num // 2 + 1):\n",
    "        if Num % divisor == 0:\n",
    "            p = 0\n",
    "            \n",
    "            while Num % divisor == 0:\n",
    "                Num = Num / divisor\n",
    "                p += 1\n",
    "            \n",
    "            if p == 1:\n",
    "                output += '(' + str(divisor) + ')'\n",
    "            else:\n",
    "                output += '(' + str(divisor) + '**' + str(p) + ')'\n",
    "    \n",
    "    if output == '':\n",
    "        output += str(Num)\n",
    "\n",
    "    return(output)\n",
    "\n",
    "def Test(Input, ref):\n",
    "    \n",
    "    ans = Factorize(Input)\n",
    "    print('Given number:', Input)\n",
    "    print('Factorization =', ref, '; ','Calculated factorization =', ans)\n",
    "    assert ans == ref, 'TEST FAILED'\n",
    "    print('---------')\n",
    "\n",
    "Test(86240, '(2**5)(5)(7**2)(11)')\n",
    "Test(0, '0')\n",
    "Test(42069, '(3)(37)(379)')\n",
    "Test(743, '743')\n",
    "Test(758, '(2)(379)')"
   ]
  },
  {
   "cell_type": "markdown",
   "metadata": {
    "id": "ps2s0BudX7A2"
   },
   "source": [
    "# Задача 7\n",
    "Написать функцию, принимающая целое число n, задающее количество кубиков. Функция\n",
    "должна определить, можно ли из данного кол-ва кубиков построить пирамиду, то есть\n",
    "можно ли представить число n как 1^2+2^2+3^2+…+k^2. Если можно, то функция должна\n",
    "вернуть k, иначе строку “It is impossible”. Написать тесты для кода"
   ]
  },
  {
   "cell_type": "code",
   "execution_count": 16,
   "metadata": {
    "id": "3YPjEXxhX_YT"
   },
   "outputs": [
    {
     "name": "stdout",
     "output_type": "stream",
     "text": [
      "Given number: 5\n",
      "Pyramid height = 2 ;  Program output = 2\n",
      "---------\n",
      "Given number: 0\n",
      "Pyramid height = It is impossible ;  Program output = It is impossible\n",
      "---------\n",
      "Given number: 6\n",
      "Pyramid height = It is impossible ;  Program output = It is impossible\n",
      "---------\n",
      "Given number: 14\n",
      "Pyramid height = 3 ;  Program output = 3\n",
      "---------\n"
     ]
    }
   ],
   "source": [
    "def Pyramid(number):\n",
    "    assert number >= 0, 'INPUT MUST BE POSITIVE'\n",
    "    k = 0\n",
    "    \n",
    "    while number >= 1:\n",
    "        k += 1\n",
    "        number -= k**2\n",
    "    \n",
    "    if number == 0 and k > 0:\n",
    "        return k\n",
    "    else:\n",
    "        return('It is impossible')\n",
    "\n",
    "def Test(Input, ref):\n",
    "    \n",
    "    ans = Pyramid(Input)\n",
    "    print('Given number:', Input)\n",
    "    print('Pyramid height =', ref, '; ','Program output =', ans)\n",
    "    assert ans == ref, 'TEST FAILED'\n",
    "    print('---------')\n",
    "\n",
    "Test(5, 2)\n",
    "Test(0, 'It is impossible')\n",
    "Test(6, 'It is impossible')\n",
    "Test(14, 3)"
   ]
  },
  {
   "cell_type": "markdown",
   "metadata": {
    "id": "KeKgmIdAQMEJ"
   },
   "source": [
    "# Задача 8\n",
    "Функция принимает на вход положительное число и определяет является ли оно сбалансированным, т.е. сумма цифр до средних равна сумме цифр после. Средними в случае нечетного числа цифр считать одну цифру, в случае четного - две средних. Написать тесты для кода"
   ]
  },
  {
   "cell_type": "code",
   "execution_count": 50,
   "metadata": {
    "id": "gMAAqtqlQrZt"
   },
   "outputs": [
    {
     "name": "stdout",
     "output_type": "stream",
     "text": [
      "Given number: 1\n",
      "Balanced = True ;  Calculated balance = True\n",
      "---------\n",
      "Given number: 464\n",
      "Balanced = True ;  Calculated balance = True\n",
      "---------\n",
      "Given number: 4564\n",
      "Balanced = True ;  Calculated balance = True\n",
      "---------\n",
      "Given number: 2564\n",
      "Balanced = False ;  Calculated balance = False\n",
      "---------\n",
      "Given number: 12530\n",
      "Balanced = True ;  Calculated balance = True\n",
      "---------\n",
      "Given number: 1234567164352\n",
      "Balanced = True ;  Calculated balance = True\n",
      "---------\n"
     ]
    }
   ],
   "source": [
    "def IsBalanced(num):\n",
    "    assert num >= 0, 'INPUT MUST BE POSITIVE'\n",
    "    num = str(num)\n",
    "    sum = 0\n",
    "    \n",
    "    if len(num) % 2 == 0:\n",
    "        middle = int(len(num) / 2) - 1\n",
    "    else:\n",
    "        middle = int(len(num) / 2) + 1\n",
    "    \n",
    "    for i in range(middle):\n",
    "        sum += int(num[i]) - int(num[-i-1])\n",
    "    \n",
    "    if sum == 0:\n",
    "        return True\n",
    "    else:\n",
    "        return False\n",
    "\n",
    "def Test(Input, ref):\n",
    "    \n",
    "    ans = IsBalanced(Input)\n",
    "    print('Given number:', Input)\n",
    "    print('Balanced =', ref, '; ','Calculated balance =', ans)\n",
    "    assert ans == ref, 'TEST FAILED'\n",
    "    print('---------')\n",
    "\n",
    "Test(1, True)\n",
    "Test(464, True)\n",
    "Test(4564, True)\n",
    "Test(2564, False)\n",
    "Test(12530, True)\n",
    "Test(1234567164352, True)"
   ]
  },
  {
   "cell_type": "code",
   "execution_count": null,
   "metadata": {},
   "outputs": [],
   "source": []
  }
 ],
 "metadata": {
  "colab": {
   "provenance": []
  },
  "kernelspec": {
   "display_name": "Python 3 (ipykernel)",
   "language": "python",
   "name": "python3"
  },
  "language_info": {
   "codemirror_mode": {
    "name": "ipython",
    "version": 3
   },
   "file_extension": ".py",
   "mimetype": "text/x-python",
   "name": "python",
   "nbconvert_exporter": "python",
   "pygments_lexer": "ipython3",
   "version": "3.11.4"
  }
 },
 "nbformat": 4,
 "nbformat_minor": 4
}
